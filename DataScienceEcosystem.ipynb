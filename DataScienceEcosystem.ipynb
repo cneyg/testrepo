{
 "cells": [
  {
   "cell_type": "markdown",
   "id": "17b0e370-e2eb-4657-91ca-c0115dbf2bdc",
   "metadata": {},
   "source": [
    "# Data Science Tools and Ecosystems"
   ]
  },
  {
   "cell_type": "markdown",
   "id": "308a192a-cf59-42af-aa52-cdd7ec5e39c9",
   "metadata": {},
   "source": [
    "**In this notebook, Data Science Tools and Ecosystems are summarized**"
   ]
  },
  {
   "cell_type": "markdown",
   "id": "78a091f5-73a8-471a-82b6-b9cbeb694edb",
   "metadata": {},
   "source": [
    "**Objectives**\n",
    "- Tools for data science\n",
    "- Basic programming\n",
    "- Data visualization"
   ]
  },
  {
   "cell_type": "markdown",
   "id": "7132e5a8-05dc-4ab0-aa3b-fb137f66d39d",
   "metadata": {},
   "source": [
    "Some of the popular languages that Data Scientists use are:\n",
    "1. R\n",
    "2. Python\n",
    "3. SQL"
   ]
  },
  {
   "cell_type": "markdown",
   "id": "8bcf475e-d3b9-40ac-be3c-4939a5a2bcca",
   "metadata": {},
   "source": [
    "Some of the commonly used libraries used by Data Scientists include:\n",
    "1. TensorFlow\n",
    "2. Numpy\n",
    "3. Pandas"
   ]
  },
  {
   "cell_type": "markdown",
   "id": "d58c14cd-a568-4998-b0e5-091cd55eae8e",
   "metadata": {},
   "source": [
    "|Data Science Tools|\n",
    "|------------------|\n",
    "|Github|\n",
    "|RStudio|\n",
    "|Jupyter|"
   ]
  },
  {
   "cell_type": "markdown",
   "id": "4ab9280b-b337-41bf-a276-16a82de67dc0",
   "metadata": {},
   "source": [
    "### Below are a few examples of evaluating arithmetic expressions in Python"
   ]
  },
  {
   "cell_type": "code",
   "execution_count": 3,
   "id": "a36fd160-4f9e-40cc-a776-e7edac55da76",
   "metadata": {},
   "outputs": [
    {
     "name": "stdout",
     "output_type": "stream",
     "text": [
      "17\n"
     ]
    }
   ],
   "source": [
    "#This is a simple arithmetic to multiply then add integers\n",
    "print((3*4)+5)"
   ]
  },
  {
   "cell_type": "code",
   "execution_count": 4,
   "id": "e6005fc2-3c43-4f4a-b02f-db00b14c39b1",
   "metadata": {},
   "outputs": [
    {
     "name": "stdout",
     "output_type": "stream",
     "text": [
      "3.3333333333333335\n"
     ]
    }
   ],
   "source": [
    "#This will convert 200 minutes to houry by dividing by 60\n",
    "print(200/60)"
   ]
  },
  {
   "cell_type": "markdown",
   "id": "ed402e85-582e-49e1-88d3-a1c87ac9444a",
   "metadata": {},
   "source": [
    "## Author\n",
    "Chris Neygandhi\n"
   ]
  },
  {
   "cell_type": "code",
   "execution_count": null,
   "id": "f3611a6f-d77a-4d2c-997f-9272a9fc60e9",
   "metadata": {},
   "outputs": [],
   "source": []
  }
 ],
 "metadata": {
  "kernelspec": {
   "display_name": "Python",
   "language": "python",
   "name": "conda-env-python-py"
  },
  "language_info": {
   "codemirror_mode": {
    "name": "ipython",
    "version": 3
   },
   "file_extension": ".py",
   "mimetype": "text/x-python",
   "name": "python",
   "nbconvert_exporter": "python",
   "pygments_lexer": "ipython3",
   "version": "3.7.12"
  }
 },
 "nbformat": 4,
 "nbformat_minor": 5
}
